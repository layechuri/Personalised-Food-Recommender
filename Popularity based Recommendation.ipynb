{
 "cells": [
  {
   "cell_type": "code",
   "execution_count": null,
   "id": "a9ff26e3",
   "metadata": {},
   "outputs": [],
   "source": [
    "# Code for recommending dishes to new users\n",
    "# Input Food DB json; User Interaction Log json\n",
    "# Output a popularity based recommendation for new users"
   ]
  },
  {
   "cell_type": "code",
   "execution_count": 35,
   "id": "2c76dd56",
   "metadata": {},
   "outputs": [],
   "source": [
    "import pandas as pd \n",
    "import numpy as np\n",
    "\n",
    "# Importing db of food items across all canteens registered on the platform\n",
    "df = pd.read_json('Food DB.json')"
   ]
  },
  {
   "cell_type": "code",
   "execution_count": 36,
   "id": "49e3a2cc",
   "metadata": {},
   "outputs": [],
   "source": [
    "# determine popularity based on user interactions log\n",
    "user_interaction_count = pd.read_json('User interaction Log.json')\n",
    "user_interaction_count['Score'] = user_interaction_count['Searched'] + user_interaction_count['Purchased'] + user_interaction_count['Liked'] \n",
    "user_interaction_count = user_interaction_count.groupby('Name')['Score'].sum().reset_index()"
   ]
  },
  {
   "cell_type": "code",
   "execution_count": 37,
   "id": "9469005c",
   "metadata": {},
   "outputs": [],
   "source": [
    "# add the popularity column to the recepies_data df\n",
    "df = pd.merge(df,user_interaction_count, how='left', left_on='Name', right_on='Name')\n",
    "df['Score'].fillna(0, inplace=True)"
   ]
  },
  {
   "cell_type": "code",
   "execution_count": 38,
   "id": "9536f633",
   "metadata": {},
   "outputs": [],
   "source": [
    "# Average Reviews of all items\n",
    "C= df['Review'].mean()\n",
    "\n",
    "# Min votes required to appear in recommendation list fixed at 60% among 'Score'\n",
    "m= df['Score'].quantile(0.6)\n",
    "\n",
    "# shortlist dishes above 60%ile votes\n",
    "q_items = df.copy().loc[df['Score'] >= m]\n",
    "\n",
    "# Calculation of weighted rating based on the IMDB formula\n",
    "def weighted_rating(x, m=m, C=C):\n",
    "    v = x['Score']\n",
    "    R = x['Review']\n",
    "    return (v/(v+m) * R) + (m/(m+v) * C)\n",
    "\n",
    "# Applying weighted_rating to qualified items\n",
    "q_items['weighted_score'] = q_items.apply(weighted_rating, axis=1)\n",
    "\n",
    "# Shortlisting the top rated items and popular items\n",
    "top_rated_items = q_items.sort_values('weighted_score', ascending=False)\n",
    "pop_items= df.sort_values('Score', ascending=False)"
   ]
  },
  {
   "cell_type": "code",
   "execution_count": 39,
   "id": "9c59fafa",
   "metadata": {},
   "outputs": [
    {
     "data": {
      "text/html": [
       "<div>\n",
       "<style scoped>\n",
       "    .dataframe tbody tr th:only-of-type {\n",
       "        vertical-align: middle;\n",
       "    }\n",
       "\n",
       "    .dataframe tbody tr th {\n",
       "        vertical-align: top;\n",
       "    }\n",
       "\n",
       "    .dataframe thead th {\n",
       "        text-align: right;\n",
       "    }\n",
       "</style>\n",
       "<table border=\"1\" class=\"dataframe\">\n",
       "  <thead>\n",
       "    <tr style=\"text-align: right;\">\n",
       "      <th></th>\n",
       "      <th>Name</th>\n",
       "      <th>Review</th>\n",
       "      <th>Score</th>\n",
       "    </tr>\n",
       "  </thead>\n",
       "  <tbody>\n",
       "    <tr>\n",
       "      <th>5541</th>\n",
       "      <td>White Chocolate Pistachio Bars Recipe | White ...</td>\n",
       "      <td>5.000000</td>\n",
       "      <td>6.0</td>\n",
       "    </tr>\n",
       "    <tr>\n",
       "      <th>764</th>\n",
       "      <td>Bathua Raita Recipe</td>\n",
       "      <td>5.000000</td>\n",
       "      <td>5.0</td>\n",
       "    </tr>\n",
       "    <tr>\n",
       "      <th>1685</th>\n",
       "      <td>Chicken Souvlaki with Tzatziki Recipe</td>\n",
       "      <td>4.980392</td>\n",
       "      <td>8.0</td>\n",
       "    </tr>\n",
       "    <tr>\n",
       "      <th>5902</th>\n",
       "      <td>Whole Wheat Methi Garlic Naan Recipe  | Oven M...</td>\n",
       "      <td>4.979198</td>\n",
       "      <td>8.0</td>\n",
       "    </tr>\n",
       "    <tr>\n",
       "      <th>314</th>\n",
       "      <td>Homemade Tagliatelle Pasta with Capers and Bel...</td>\n",
       "      <td>4.994135</td>\n",
       "      <td>5.0</td>\n",
       "    </tr>\n",
       "  </tbody>\n",
       "</table>\n",
       "</div>"
      ],
      "text/plain": [
       "                                                   Name    Review  Score\n",
       "5541  White Chocolate Pistachio Bars Recipe | White ...  5.000000    6.0\n",
       "764                                Bathua Raita Recipe   5.000000    5.0\n",
       "1685             Chicken Souvlaki with Tzatziki Recipe   4.980392    8.0\n",
       "5902  Whole Wheat Methi Garlic Naan Recipe  | Oven M...  4.979198    8.0\n",
       "314   Homemade Tagliatelle Pasta with Capers and Bel...  4.994135    5.0"
      ]
     },
     "execution_count": 39,
     "metadata": {},
     "output_type": "execute_result"
    }
   ],
   "source": [
    "# Display results of demographic filtering\n",
    "top_rated_items[['Name', 'Review', 'Score']].head()"
   ]
  },
  {
   "cell_type": "code",
   "execution_count": 40,
   "id": "fc4f0155",
   "metadata": {},
   "outputs": [
    {
     "data": {
      "text/html": [
       "<div>\n",
       "<style scoped>\n",
       "    .dataframe tbody tr th:only-of-type {\n",
       "        vertical-align: middle;\n",
       "    }\n",
       "\n",
       "    .dataframe tbody tr th {\n",
       "        vertical-align: top;\n",
       "    }\n",
       "\n",
       "    .dataframe thead th {\n",
       "        text-align: right;\n",
       "    }\n",
       "</style>\n",
       "<table border=\"1\" class=\"dataframe\">\n",
       "  <thead>\n",
       "    <tr style=\"text-align: right;\">\n",
       "      <th></th>\n",
       "      <th>Name</th>\n",
       "      <th>Review</th>\n",
       "      <th>Score</th>\n",
       "    </tr>\n",
       "  </thead>\n",
       "  <tbody>\n",
       "    <tr>\n",
       "      <th>6094</th>\n",
       "      <td>Doi Bhetki Recipe - Bengali Style Yogurt Fish ...</td>\n",
       "      <td>4.882413</td>\n",
       "      <td>14.0</td>\n",
       "    </tr>\n",
       "    <tr>\n",
       "      <th>826</th>\n",
       "      <td>Beetroot Carrot Tomato &amp; Ginger Juice Recipe</td>\n",
       "      <td>4.809942</td>\n",
       "      <td>13.0</td>\n",
       "    </tr>\n",
       "    <tr>\n",
       "      <th>1472</th>\n",
       "      <td>Carrot and Oats  Whole Wheat Bread Recipe</td>\n",
       "      <td>4.893175</td>\n",
       "      <td>12.0</td>\n",
       "    </tr>\n",
       "    <tr>\n",
       "      <th>5118</th>\n",
       "      <td>Chicken Keema Paratha Recipe - Minced Chicken ...</td>\n",
       "      <td>4.944489</td>\n",
       "      <td>12.0</td>\n",
       "    </tr>\n",
       "    <tr>\n",
       "      <th>6356</th>\n",
       "      <td>Kerala Style Mutton Pepper Fry Recipe</td>\n",
       "      <td>4.883259</td>\n",
       "      <td>11.0</td>\n",
       "    </tr>\n",
       "  </tbody>\n",
       "</table>\n",
       "</div>"
      ],
      "text/plain": [
       "                                                   Name    Review  Score\n",
       "6094  Doi Bhetki Recipe - Bengali Style Yogurt Fish ...  4.882413   14.0\n",
       "826        Beetroot Carrot Tomato & Ginger Juice Recipe  4.809942   13.0\n",
       "1472         Carrot and Oats  Whole Wheat Bread Recipe   4.893175   12.0\n",
       "5118  Chicken Keema Paratha Recipe - Minced Chicken ...  4.944489   12.0\n",
       "6356              Kerala Style Mutton Pepper Fry Recipe  4.883259   11.0"
      ]
     },
     "execution_count": 40,
     "metadata": {},
     "output_type": "execute_result"
    }
   ],
   "source": [
    "pop_items[['Name','Review', 'Score']].head()"
   ]
  }
 ],
 "metadata": {
  "kernelspec": {
   "display_name": "Python 3",
   "language": "python",
   "name": "python3"
  },
  "language_info": {
   "codemirror_mode": {
    "name": "ipython",
    "version": 3
   },
   "file_extension": ".py",
   "mimetype": "text/x-python",
   "name": "python",
   "nbconvert_exporter": "python",
   "pygments_lexer": "ipython3",
   "version": "3.8.8"
  }
 },
 "nbformat": 4,
 "nbformat_minor": 5
}
